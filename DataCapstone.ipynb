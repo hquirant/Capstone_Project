{
 "cells": [
  {
   "cell_type": "markdown",
   "metadata": {},
   "source": [
    "#### Data Capstone"
   ]
  },
  {
   "cell_type": "markdown",
   "metadata": {},
   "source": [
    "I will start using the data from the wikipedia page https://en.wikipedia.org/wiki/List_of_postal_codes_of_Canada:_M as in the previous assignment.\n",
    "Similarly I will cluster neighbourhoods, but in this case using a higher number of clusters.\n",
    "The idea is to divide the city in 10 parts of similar size.\n",
    "\n",
    "Once that is done, I will use foursquares to find out where the supermarkets of Toronto are currently located.\n",
    "\n",
    "Having the supermarkets displayed on the map will make visually clear which clusters of neighbourhoods are already 'full' with supermarkets and which ones contain fewer supermarkets.\n",
    "\n",
    "Of course, dividing the city in 10 parts of similar city doesn't tell us everything about how the population is distributed in Toronto. For this reason I will also extract data about demographics from another wikipedia page: https://en.wikipedia.org/wiki/Demographics_of_Toronto_neighbourhoods' and get a table where the neighbourhoods are ordered by population.\n",
    "\n",
    "From this point I will visually choose in which clusters of neighbourhoods a new supermarket would face less competition.\n",
    "\n",
    "The final step will be choosing the most populated neighbourhood among those clusters with few or no supermarkets. \n"
   ]
  },
  {
   "cell_type": "code",
   "execution_count": null,
   "metadata": {},
   "outputs": [],
   "source": []
  }
 ],
 "metadata": {
  "kernelspec": {
   "display_name": "Python 3",
   "language": "python",
   "name": "python3"
  },
  "language_info": {
   "codemirror_mode": {
    "name": "ipython",
    "version": 3
   },
   "file_extension": ".py",
   "mimetype": "text/x-python",
   "name": "python",
   "nbconvert_exporter": "python",
   "pygments_lexer": "ipython3",
   "version": "3.6.6"
  }
 },
 "nbformat": 4,
 "nbformat_minor": 2
}
