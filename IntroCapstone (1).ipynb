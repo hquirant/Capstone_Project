{
 "cells": [
  {
   "cell_type": "markdown",
   "metadata": {},
   "source": [
    "#### Introduction business problem"
   ]
  },
  {
   "cell_type": "markdown",
   "metadata": {},
   "source": [
    "The idea is to choose the best place to set up a new supermarket in Toronto. A small group of investors would like to add a new franchise supermarket to the city of Toronto and asked advice about in which location it would reach more potential clients.\n",
    "\n",
    "An important factor when choosing which supermarket to go is distance. We tend to do our groceries in the closest supermarket available unless it presents many disadvantages compared with others that are further away. \n",
    "The aim is to choose a location with high population around but where there are not yet many supermarkets. \n",
    "\n"
   ]
  },
  {
   "cell_type": "code",
   "execution_count": null,
   "metadata": {},
   "outputs": [],
   "source": []
  }
 ],
 "metadata": {
  "kernelspec": {
   "display_name": "Python 3",
   "language": "python",
   "name": "python3"
  },
  "language_info": {
   "codemirror_mode": {
    "name": "ipython",
    "version": 3
   },
   "file_extension": ".py",
   "mimetype": "text/x-python",
   "name": "python",
   "nbconvert_exporter": "python",
   "pygments_lexer": "ipython3",
   "version": "3.6.6"
  }
 },
 "nbformat": 4,
 "nbformat_minor": 2
}
